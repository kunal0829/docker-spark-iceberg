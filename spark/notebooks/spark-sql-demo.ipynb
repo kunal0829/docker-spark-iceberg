{
 "cells": [
  {
   "cell_type": "code",
   "execution_count": null,
   "id": "9a65c99d",
   "metadata": {},
   "outputs": [],
   "source": [
    "spark"
   ]
  },
  {
   "cell_type": "code",
   "execution_count": null,
   "id": "864406a1",
   "metadata": {},
   "outputs": [],
   "source": [
    "%%sql\n",
    "\n",
    "show databases"
   ]
  },
  {
   "cell_type": "code",
   "execution_count": null,
   "id": "794cdfe9",
   "metadata": {},
   "outputs": [],
   "source": [
    "%%sql\n",
    "\n",
    "show tables from default1;"
   ]
  },
  {
   "cell_type": "code",
   "execution_count": null,
   "id": "6078b050",
   "metadata": {},
   "outputs": [],
   "source": [
    "%%sql\n",
    "\n",
    "CREATE TABLE default1.demo (id bigint NOT NULL, data string) USING iceberg;"
   ]
  },
  {
   "cell_type": "code",
   "execution_count": null,
   "id": "ebf8f25c",
   "metadata": {},
   "outputs": [],
   "source": [
    "%%sql\n",
    "\n",
    "show tables from default1;"
   ]
  },
  {
   "cell_type": "code",
   "execution_count": null,
   "id": "740a46f5",
   "metadata": {},
   "outputs": [],
   "source": [
    "%%sql\n",
    "\n",
    "INSERT INTO glue.default1.demo VALUES (1, 'a'), (2, 'b'), (3, 'c');"
   ]
  },
  {
   "cell_type": "code",
   "execution_count": null,
   "id": "470e28fa",
   "metadata": {},
   "outputs": [],
   "source": [
    "%%sql\n",
    "\n",
    "SELECT * FROM glue.default1.demo;"
   ]
  },
  {
   "cell_type": "code",
   "execution_count": null,
   "id": "30103058",
   "metadata": {
    "pycharm": {
     "name": "#%%\n"
    }
   },
   "outputs": [],
   "source": [
    "%%sql\n",
    "\n",
    "SELECT * FROM glue.default1.demo WHERE id == 1;"
   ]
  }
 ],
 "metadata": {
  "kernelspec": {
   "display_name": "Python 3 (ipykernel)",
   "language": "python",
   "name": "python3"
  },
  "language_info": {
   "codemirror_mode": {
    "name": "ipython",
    "version": 3
   },
   "file_extension": ".py",
   "mimetype": "text/x-python",
   "name": "python",
   "nbconvert_exporter": "python",
   "pygments_lexer": "ipython3",
   "version": "3.9.10"
  }
 },
 "nbformat": 4,
 "nbformat_minor": 5
}